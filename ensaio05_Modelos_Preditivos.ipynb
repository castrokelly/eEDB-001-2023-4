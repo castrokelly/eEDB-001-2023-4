{
  "cells": [
    {
      "cell_type": "markdown",
      "metadata": {
        "id": "view-in-github",
        "colab_type": "text"
      },
      "source": [
        "<a href=\"https://colab.research.google.com/github/castrokelly/eEDB-001-2023-4/blob/main/ensaio05_Modelos_Preditivos.ipynb\" target=\"_parent\"><img src=\"https://colab.research.google.com/assets/colab-badge.svg\" alt=\"Open In Colab\"/></a>"
      ]
    },
    {
      "cell_type": "markdown",
      "source": [
        " # Emissão de CO2\n",
        "\n",
        " A problemática da emissão de dióxido de carbono (CO2) por veículos automotores é um tema de grande relevância nos dias atuais, dada a crescente preocupação com as mudanças climáticas e a necessidade de reduzir as emissões de gases de efeito estufa.\n",
        "\n",
        "A queima de combustíveis fósseis, como gasolina e diesel, nos motores de veículos é uma das principais fontes de emissão de CO2. Essas emissões contribuem significativamente para o aumento da concentração de gases de efeito estufa na atmosfera acelerando as mudanças climáticas. Além do CO2, outros poluentes atmosféricos provenientes dos escapamentos dos veículos podem ter impactos negativos na qualidade do ar e na saúde humana.\n",
        "\n",
        "As políticas governamentais desempenham um papel crucial na condução da transição para um transporte mais sustentável. Incentivos fiscais, normas de eficiência veicular e metas ambiciosas de redução de emissões são estratégias que podem acelerar a mudança para um sistema de transporte menos poluente.\n",
        "\n",
        "A aplicação de modelos preditivos baseados em Aprendizado de Máquina (AM) na previsão da emissão de CO2 por veículos automotores oferece uma série de contribuições no contexto da busca por soluções  para a redução dessas emissões. Incluindo:\n",
        "\n",
        "1. **Otimização da Eficiência Veicular:**\n",
        "   - Modelos preditivos podem analisar grandes conjuntos de dados, considerando variáveis como condições de tráfego, características do veículo, e padrões de condução. Essa análise permite identificar padrões complexos contribuindo para o desenvolvimento de estratégias para otimizar a eficiência dos veículos, reduzindo assim as emissões de CO2.\n",
        "\n",
        "2. **Personalização de Recomendações:**\n",
        "   - Modelos preditivos podem ser empregados para criar recomendações personalizadas aos motoristas. Por exemplo, um sistema baseado em AM pode fornecer sugestões específicas para manutenção adequada do veículo ou até mesmo recomendar a troca para veículos mais sustentáveis.\n",
        "\n",
        "\n",
        "3. **Apoio a Políticas Públicas:**\n",
        "   - Modelos preditivos podem oferecer insights  para os formuladores de políticas, permitindo a avaliação do impacto de diferentes medidas regulatórias na redução das emissões. Isso pode incluir a previsão de como padrões de emissão mais rigorosos ou incentivos para veículos de baixa emissão podem influenciar o cenário global de emissões de CO2.\n",
        "\n",
        "4. **Monitoramento Contínuo:**\n",
        "   - Modelos de Aprendizado de Máquina podem ser implementados para monitorar continuamente as emissões veiculares em tempo real. Isso possibilita uma resposta rápida a mudanças nas condições de tráfego, permitindo ajustes dinâmicos para maximizar a eficiência e minimizar as emissões.\n",
        "\n",
        "\n",
        "Este é MVP para regressão da emissão de CO2 a partir de características construtivas, modelos e desempenho de veículos automotivos. Os dados estão disponibilizados na plataforma Kaggle: https://www.kaggle.com/datasets/rinichristy/2022-fuel-consumption-ratings"
      ],
      "metadata": {
        "id": "fP1UMXANc9DI"
      },
      "id": "fP1UMXANc9DI"
    },
    {
      "cell_type": "markdown",
      "id": "bc9e1d4b",
      "metadata": {
        "papermill": {
          "duration": 0.017913,
          "end_time": "2023-05-22T22:49:13.417401",
          "exception": false,
          "start_time": "2023-05-22T22:49:13.399488",
          "status": "completed"
        },
        "tags": [],
        "id": "bc9e1d4b"
      },
      "source": [
        "#Aprendizado de Máquina Supervisionado:Regressão\n",
        "\n",
        "No aprendizado supervisionado cada instância é caracterizada por seus atributos e associada a um rótulo. O objetivo é treinar um modelo preditivo capaz de identificar uma função que mapeie os valores dos atributos preditivos para o valor da variável explicada (dependente). Esse modelo pode então ser empregado para prever valores de instâncias não vistas durante o treinamento. Este paradigma é fundamental quando se busca realizar tarefas de regressão, onde o objetivo é inferir o valor associado a uma nova entrada com base no aprendizado a partir de exemplos rotulados."
      ]
    },
    {
      "cell_type": "code",
      "source": [
        "import os\n",
        "os.environ['KMP_DUPLICATE_LIB_OK']='True'"
      ],
      "metadata": {
        "id": "4Gcr8qI2P-8C"
      },
      "execution_count": 48,
      "outputs": [],
      "id": "4Gcr8qI2P-8C"
    },
    {
      "cell_type": "markdown",
      "id": "281392ce",
      "metadata": {
        "papermill": {
          "duration": 0.01865,
          "end_time": "2023-05-22T22:49:13.453362",
          "exception": false,
          "start_time": "2023-05-22T22:49:13.434712",
          "status": "completed"
        },
        "tags": [],
        "id": "281392ce"
      },
      "source": [
        "## Bibliotecas\n"
      ]
    },
    {
      "cell_type": "code",
      "source": [
        "from google.colab import drive\n",
        "drive.mount('/content/drive')"
      ],
      "metadata": {
        "id": "EyedpfST500E",
        "colab": {
          "base_uri": "https://localhost:8080/"
        },
        "outputId": "b22ee424-5c82-477c-d5ae-daddff4440a7"
      },
      "execution_count": 49,
      "outputs": [
        {
          "output_type": "stream",
          "name": "stdout",
          "text": [
            "Drive already mounted at /content/drive; to attempt to forcibly remount, call drive.mount(\"/content/drive\", force_remount=True).\n"
          ]
        }
      ],
      "id": "EyedpfST500E"
    },
    {
      "cell_type": "code",
      "source": [
        "pip install scikit-learn --upgrade"
      ],
      "metadata": {
        "colab": {
          "base_uri": "https://localhost:8080/"
        },
        "id": "tIwAiivhPL9O",
        "outputId": "c6677b85-4e5c-45a3-c519-23c424312468"
      },
      "id": "tIwAiivhPL9O",
      "execution_count": 50,
      "outputs": [
        {
          "output_type": "stream",
          "name": "stdout",
          "text": [
            "Requirement already satisfied: scikit-learn in /usr/local/lib/python3.10/dist-packages (1.3.2)\n",
            "Requirement already satisfied: numpy<2.0,>=1.17.3 in /usr/local/lib/python3.10/dist-packages (from scikit-learn) (1.23.5)\n",
            "Requirement already satisfied: scipy>=1.5.0 in /usr/local/lib/python3.10/dist-packages (from scikit-learn) (1.11.4)\n",
            "Requirement already satisfied: joblib>=1.1.1 in /usr/local/lib/python3.10/dist-packages (from scikit-learn) (1.3.2)\n",
            "Requirement already satisfied: threadpoolctl>=2.0.0 in /usr/local/lib/python3.10/dist-packages (from scikit-learn) (3.2.0)\n"
          ]
        }
      ]
    },
    {
      "cell_type": "code",
      "source": [
        "pip uninstall scikit-learn\n",
        "pip install scikit-learn"
      ],
      "metadata": {
        "id": "EQ3FGhg1Pg9s"
      },
      "id": "EQ3FGhg1Pg9s",
      "execution_count": null,
      "outputs": []
    },
    {
      "cell_type": "code",
      "execution_count": 51,
      "id": "c342488b",
      "metadata": {
        "execution": {
          "iopub.execute_input": "2023-05-22T22:49:13.489935Z",
          "iopub.status.busy": "2023-05-22T22:49:13.489061Z",
          "iopub.status.idle": "2023-05-22T22:49:15.554746Z",
          "shell.execute_reply": "2023-05-22T22:49:15.552882Z"
        },
        "papermill": {
          "duration": 2.088458,
          "end_time": "2023-05-22T22:49:15.558209",
          "exception": false,
          "start_time": "2023-05-22T22:49:13.469751",
          "status": "completed"
        },
        "tags": [],
        "id": "c342488b",
        "colab": {
          "base_uri": "https://localhost:8080/",
          "height": 557
        },
        "outputId": "0b0479a2-88e4-4fbf-9923-0de3beca290d"
      },
      "outputs": [
        {
          "output_type": "error",
          "ename": "ImportError",
          "evalue": "ignored",
          "traceback": [
            "\u001b[0;31m---------------------------------------------------------------------------\u001b[0m",
            "\u001b[0;31mImportError\u001b[0m                               Traceback (most recent call last)",
            "\u001b[0;32m<ipython-input-51-82f466b279b1>\u001b[0m in \u001b[0;36m<cell line: 24>\u001b[0;34m()\u001b[0m\n\u001b[1;32m     22\u001b[0m                              \u001b[0mroc_curve\u001b[0m\u001b[0;34m,\u001b[0m\u001b[0;34m\u001b[0m\u001b[0;34m\u001b[0m\u001b[0m\n\u001b[1;32m     23\u001b[0m                              roc_auc_score)\n\u001b[0;32m---> 24\u001b[0;31m \u001b[0;32mfrom\u001b[0m \u001b[0mimblearn\u001b[0m\u001b[0;34m.\u001b[0m\u001b[0mover_sampling\u001b[0m \u001b[0;32mimport\u001b[0m \u001b[0mSMOTE\u001b[0m\u001b[0;34m\u001b[0m\u001b[0;34m\u001b[0m\u001b[0m\n\u001b[0m\u001b[1;32m     25\u001b[0m \u001b[0;32mfrom\u001b[0m \u001b[0mtabulate\u001b[0m \u001b[0;32mimport\u001b[0m \u001b[0mtabulate\u001b[0m\u001b[0;34m\u001b[0m\u001b[0;34m\u001b[0m\u001b[0m\n\u001b[1;32m     26\u001b[0m \u001b[0mwarnings\u001b[0m\u001b[0;34m.\u001b[0m\u001b[0mfilterwarnings\u001b[0m\u001b[0;34m(\u001b[0m\u001b[0;34m'ignore'\u001b[0m\u001b[0;34m)\u001b[0m\u001b[0;34m\u001b[0m\u001b[0;34m\u001b[0m\u001b[0m\n",
            "\u001b[0;32m/usr/local/lib/python3.10/dist-packages/imblearn/__init__.py\u001b[0m in \u001b[0;36m<module>\u001b[0;34m\u001b[0m\n\u001b[1;32m     50\u001b[0m     \u001b[0;31m# process, as it may not be compiled yet\u001b[0m\u001b[0;34m\u001b[0m\u001b[0;34m\u001b[0m\u001b[0m\n\u001b[1;32m     51\u001b[0m \u001b[0;32melse\u001b[0m\u001b[0;34m:\u001b[0m\u001b[0;34m\u001b[0m\u001b[0;34m\u001b[0m\u001b[0m\n\u001b[0;32m---> 52\u001b[0;31m     from . import (\n\u001b[0m\u001b[1;32m     53\u001b[0m         \u001b[0mcombine\u001b[0m\u001b[0;34m,\u001b[0m\u001b[0;34m\u001b[0m\u001b[0;34m\u001b[0m\u001b[0m\n\u001b[1;32m     54\u001b[0m         \u001b[0mensemble\u001b[0m\u001b[0;34m,\u001b[0m\u001b[0;34m\u001b[0m\u001b[0;34m\u001b[0m\u001b[0m\n",
            "\u001b[0;32m/usr/local/lib/python3.10/dist-packages/imblearn/combine/__init__.py\u001b[0m in \u001b[0;36m<module>\u001b[0;34m\u001b[0m\n\u001b[1;32m      3\u001b[0m \"\"\"\n\u001b[1;32m      4\u001b[0m \u001b[0;34m\u001b[0m\u001b[0m\n\u001b[0;32m----> 5\u001b[0;31m \u001b[0;32mfrom\u001b[0m \u001b[0;34m.\u001b[0m\u001b[0m_smote_enn\u001b[0m \u001b[0;32mimport\u001b[0m \u001b[0mSMOTEENN\u001b[0m\u001b[0;34m\u001b[0m\u001b[0;34m\u001b[0m\u001b[0m\n\u001b[0m\u001b[1;32m      6\u001b[0m \u001b[0;32mfrom\u001b[0m \u001b[0;34m.\u001b[0m\u001b[0m_smote_tomek\u001b[0m \u001b[0;32mimport\u001b[0m \u001b[0mSMOTETomek\u001b[0m\u001b[0;34m\u001b[0m\u001b[0;34m\u001b[0m\u001b[0m\n\u001b[1;32m      7\u001b[0m \u001b[0;34m\u001b[0m\u001b[0m\n",
            "\u001b[0;32m/usr/local/lib/python3.10/dist-packages/imblearn/combine/_smote_enn.py\u001b[0m in \u001b[0;36m<module>\u001b[0;34m\u001b[0m\n\u001b[1;32m     10\u001b[0m \u001b[0;32mfrom\u001b[0m \u001b[0msklearn\u001b[0m\u001b[0;34m.\u001b[0m\u001b[0mutils\u001b[0m \u001b[0;32mimport\u001b[0m \u001b[0mcheck_X_y\u001b[0m\u001b[0;34m\u001b[0m\u001b[0;34m\u001b[0m\u001b[0m\n\u001b[1;32m     11\u001b[0m \u001b[0;34m\u001b[0m\u001b[0m\n\u001b[0;32m---> 12\u001b[0;31m \u001b[0;32mfrom\u001b[0m \u001b[0;34m.\u001b[0m\u001b[0;34m.\u001b[0m\u001b[0mbase\u001b[0m \u001b[0;32mimport\u001b[0m \u001b[0mBaseSampler\u001b[0m\u001b[0;34m\u001b[0m\u001b[0;34m\u001b[0m\u001b[0m\n\u001b[0m\u001b[1;32m     13\u001b[0m \u001b[0;32mfrom\u001b[0m \u001b[0;34m.\u001b[0m\u001b[0;34m.\u001b[0m\u001b[0mover_sampling\u001b[0m \u001b[0;32mimport\u001b[0m \u001b[0mSMOTE\u001b[0m\u001b[0;34m\u001b[0m\u001b[0;34m\u001b[0m\u001b[0m\n\u001b[1;32m     14\u001b[0m \u001b[0;32mfrom\u001b[0m \u001b[0;34m.\u001b[0m\u001b[0;34m.\u001b[0m\u001b[0mover_sampling\u001b[0m\u001b[0;34m.\u001b[0m\u001b[0mbase\u001b[0m \u001b[0;32mimport\u001b[0m \u001b[0mBaseOverSampler\u001b[0m\u001b[0;34m\u001b[0m\u001b[0;34m\u001b[0m\u001b[0m\n",
            "\u001b[0;32m/usr/local/lib/python3.10/dist-packages/imblearn/base.py\u001b[0m in \u001b[0;36m<module>\u001b[0;34m\u001b[0m\n\u001b[1;32m     19\u001b[0m \u001b[0;34m\u001b[0m\u001b[0m\n\u001b[1;32m     20\u001b[0m \u001b[0;32mfrom\u001b[0m \u001b[0;34m.\u001b[0m\u001b[0mutils\u001b[0m \u001b[0;32mimport\u001b[0m \u001b[0mcheck_sampling_strategy\u001b[0m\u001b[0;34m,\u001b[0m \u001b[0mcheck_target_type\u001b[0m\u001b[0;34m\u001b[0m\u001b[0;34m\u001b[0m\u001b[0m\n\u001b[0;32m---> 21\u001b[0;31m \u001b[0;32mfrom\u001b[0m \u001b[0;34m.\u001b[0m\u001b[0mutils\u001b[0m\u001b[0;34m.\u001b[0m\u001b[0m_param_validation\u001b[0m \u001b[0;32mimport\u001b[0m \u001b[0mvalidate_parameter_constraints\u001b[0m\u001b[0;34m\u001b[0m\u001b[0;34m\u001b[0m\u001b[0m\n\u001b[0m\u001b[1;32m     22\u001b[0m \u001b[0;32mfrom\u001b[0m \u001b[0;34m.\u001b[0m\u001b[0mutils\u001b[0m\u001b[0;34m.\u001b[0m\u001b[0m_validation\u001b[0m \u001b[0;32mimport\u001b[0m \u001b[0mArraysTransformer\u001b[0m\u001b[0;34m\u001b[0m\u001b[0;34m\u001b[0m\u001b[0m\n\u001b[1;32m     23\u001b[0m \u001b[0;34m\u001b[0m\u001b[0m\n",
            "\u001b[0;32m/usr/local/lib/python3.10/dist-packages/imblearn/utils/_param_validation.py\u001b[0m in \u001b[0;36m<module>\u001b[0;34m\u001b[0m\n\u001b[1;32m    906\u001b[0m     \u001b[0;32mfrom\u001b[0m \u001b[0msklearn\u001b[0m\u001b[0;34m.\u001b[0m\u001b[0mutils\u001b[0m\u001b[0;34m.\u001b[0m\u001b[0m_param_validation\u001b[0m \u001b[0;32mimport\u001b[0m \u001b[0mgenerate_valid_param\u001b[0m  \u001b[0;31m# noqa\u001b[0m\u001b[0;34m\u001b[0m\u001b[0;34m\u001b[0m\u001b[0m\n\u001b[1;32m    907\u001b[0m     \u001b[0;32mfrom\u001b[0m \u001b[0msklearn\u001b[0m\u001b[0;34m.\u001b[0m\u001b[0mutils\u001b[0m\u001b[0;34m.\u001b[0m\u001b[0m_param_validation\u001b[0m \u001b[0;32mimport\u001b[0m \u001b[0mvalidate_parameter_constraints\u001b[0m  \u001b[0;31m# noqa\u001b[0m\u001b[0;34m\u001b[0m\u001b[0;34m\u001b[0m\u001b[0m\n\u001b[0;32m--> 908\u001b[0;31m     from sklearn.utils._param_validation import (\n\u001b[0m\u001b[1;32m    909\u001b[0m         \u001b[0mHasMethods\u001b[0m\u001b[0;34m,\u001b[0m\u001b[0;34m\u001b[0m\u001b[0;34m\u001b[0m\u001b[0m\n\u001b[1;32m    910\u001b[0m         \u001b[0mHidden\u001b[0m\u001b[0;34m,\u001b[0m\u001b[0;34m\u001b[0m\u001b[0;34m\u001b[0m\u001b[0m\n",
            "\u001b[0;31mImportError\u001b[0m: cannot import name '_MissingValues' from 'sklearn.utils._param_validation' (/usr/local/lib/python3.10/dist-packages/sklearn/utils/_param_validation.py)",
            "",
            "\u001b[0;31m---------------------------------------------------------------------------\u001b[0;32m\nNOTE: If your import is failing due to a missing package, you can\nmanually install dependencies using either !pip or !apt.\n\nTo view examples of installing some common dependencies, click the\n\"Open Examples\" button below.\n\u001b[0;31m---------------------------------------------------------------------------\u001b[0m\n"
          ],
          "errorDetails": {
            "actions": [
              {
                "action": "open_url",
                "actionText": "Open Examples",
                "url": "/notebooks/snippets/importing_libraries.ipynb"
              }
            ]
          }
        }
      ],
      "source": [
        "import pandas as pd\n",
        "import numpy as np\n",
        "import matplotlib.pyplot as plt\n",
        "import seaborn as sns\n",
        "import warnings\n",
        "import gc\n",
        "\n",
        "from sklearn.preprocessing import OneHotEncoder, StandardScaler\n",
        "from sklearn.impute import SimpleImputer\n",
        "from sklearn.pipeline import Pipeline\n",
        "from sklearn.compose import ColumnTransformer\n",
        "from sklearn.decomposition import TruncatedSVD, PCA\n",
        "\n",
        "from sklearn.linear_model import LinearRegression\n",
        "from sklearn.ensemble import AdaBoostRegressor, GradientBoostingRegressor\n",
        "from sklearn.linear_model import LogisticRegression\n",
        "from sklearn.model_selection import train_test_split, KFold, cross_val_score\n",
        "\n",
        "from sklearn.metrics import (accuracy_score,\n",
        "                             classification_report,\n",
        "                             confusion_matrix,\n",
        "                             roc_curve,\n",
        "                             roc_auc_score)\n",
        "from imblearn.over_sampling import SMOTE\n",
        "from tabulate import tabulate\n",
        "warnings.filterwarnings('ignore')\n",
        "sns.set_style('darkgrid')\n"
      ]
    },
    {
      "cell_type": "markdown",
      "id": "b4660f18",
      "metadata": {
        "papermill": {
          "duration": 0.01557,
          "end_time": "2023-05-22T22:49:15.589612",
          "exception": false,
          "start_time": "2023-05-22T22:49:15.574042",
          "status": "completed"
        },
        "tags": [],
        "id": "b4660f18"
      },
      "source": [
        "## Carregamento dos dados\n"
      ]
    },
    {
      "cell_type": "code",
      "execution_count": null,
      "id": "dba0d5ed",
      "metadata": {
        "execution": {
          "iopub.execute_input": "2023-05-22T22:49:15.623629Z",
          "iopub.status.busy": "2023-05-22T22:49:15.623202Z",
          "iopub.status.idle": "2023-05-22T22:49:15.783423Z",
          "shell.execute_reply": "2023-05-22T22:49:15.781926Z"
        },
        "papermill": {
          "duration": 0.180408,
          "end_time": "2023-05-22T22:49:15.786576",
          "exception": false,
          "start_time": "2023-05-22T22:49:15.606168",
          "status": "completed"
        },
        "tags": [],
        "id": "dba0d5ed"
      },
      "outputs": [],
      "source": [
        "df = pd.read_csv('/content/dsEnsaio05.csv', encoding='utf-8', sep=',')"
      ]
    },
    {
      "cell_type": "markdown",
      "id": "06436802",
      "metadata": {
        "papermill": {
          "duration": 0.014812,
          "end_time": "2023-05-22T22:49:15.818871",
          "exception": false,
          "start_time": "2023-05-22T22:49:15.804059",
          "status": "completed"
        },
        "tags": [],
        "id": "06436802"
      },
      "source": [
        "## Detalhes do dataframe\n"
      ]
    },
    {
      "cell_type": "code",
      "execution_count": null,
      "id": "5759589a",
      "metadata": {
        "execution": {
          "iopub.execute_input": "2023-05-22T22:49:15.853270Z",
          "iopub.status.busy": "2023-05-22T22:49:15.852443Z",
          "iopub.status.idle": "2023-05-22T22:49:15.882749Z",
          "shell.execute_reply": "2023-05-22T22:49:15.881595Z"
        },
        "papermill": {
          "duration": 0.050477,
          "end_time": "2023-05-22T22:49:15.885791",
          "exception": false,
          "start_time": "2023-05-22T22:49:15.835314",
          "status": "completed"
        },
        "tags": [],
        "id": "5759589a"
      },
      "outputs": [],
      "source": [
        "df.info()"
      ]
    },
    {
      "cell_type": "code",
      "source": [
        "df.describe()"
      ],
      "metadata": {
        "id": "j5x_cSQ9kz5z"
      },
      "id": "j5x_cSQ9kz5z",
      "execution_count": null,
      "outputs": []
    },
    {
      "cell_type": "code",
      "execution_count": null,
      "id": "be62b3bf",
      "metadata": {
        "execution": {
          "iopub.execute_input": "2023-05-22T22:49:15.919996Z",
          "iopub.status.busy": "2023-05-22T22:49:15.919451Z",
          "iopub.status.idle": "2023-05-22T22:49:15.944411Z",
          "shell.execute_reply": "2023-05-22T22:49:15.943424Z"
        },
        "papermill": {
          "duration": 0.045388,
          "end_time": "2023-05-22T22:49:15.947019",
          "exception": false,
          "start_time": "2023-05-22T22:49:15.901631",
          "status": "completed"
        },
        "tags": [],
        "id": "be62b3bf"
      },
      "outputs": [],
      "source": [
        "df.sample(10)"
      ]
    },
    {
      "cell_type": "code",
      "source": [
        "df.columns"
      ],
      "metadata": {
        "id": "W2syPq5ulBw6"
      },
      "id": "W2syPq5ulBw6",
      "execution_count": null,
      "outputs": []
    },
    {
      "cell_type": "markdown",
      "source": [
        ">> Faltantes"
      ],
      "metadata": {
        "id": "iWSIRzF1EtjV"
      },
      "id": "iWSIRzF1EtjV"
    },
    {
      "cell_type": "code",
      "source": [
        "df.isna().sum()"
      ],
      "metadata": {
        "id": "pJ2WQGF6lWAu"
      },
      "id": "pJ2WQGF6lWAu",
      "execution_count": null,
      "outputs": []
    },
    {
      "cell_type": "markdown",
      "source": [
        ">> Tamanho do data frame (dataset)"
      ],
      "metadata": {
        "id": "GpzdkF05E2AP"
      },
      "id": "GpzdkF05E2AP"
    },
    {
      "cell_type": "code",
      "execution_count": null,
      "id": "24b766ca",
      "metadata": {
        "execution": {
          "iopub.execute_input": "2023-05-22T22:49:16.030122Z",
          "iopub.status.busy": "2023-05-22T22:49:16.028854Z",
          "iopub.status.idle": "2023-05-22T22:49:16.037360Z",
          "shell.execute_reply": "2023-05-22T22:49:16.035755Z"
        },
        "papermill": {
          "duration": 0.030467,
          "end_time": "2023-05-22T22:49:16.040886",
          "exception": false,
          "start_time": "2023-05-22T22:49:16.010419",
          "status": "completed"
        },
        "tags": [],
        "id": "24b766ca"
      },
      "outputs": [],
      "source": [
        "df.shape"
      ]
    },
    {
      "cell_type": "code",
      "source": [
        "print(\"tamanho:\",df.size)"
      ],
      "metadata": {
        "id": "tU6LAxl4lu-n"
      },
      "id": "tU6LAxl4lu-n",
      "execution_count": null,
      "outputs": []
    },
    {
      "cell_type": "code",
      "source": [
        "X=df.drop(columns=[\"CO2 Emissions(g/km)\", \"Model Year\"])\n",
        "y=df[\"CO2 Emissions(g/km)\"]"
      ],
      "metadata": {
        "id": "uslzwTvmmd83"
      },
      "id": "uslzwTvmmd83",
      "execution_count": null,
      "outputs": []
    },
    {
      "cell_type": "code",
      "source": [
        "X.head()"
      ],
      "metadata": {
        "id": "io3FYcp4oeT1"
      },
      "id": "io3FYcp4oeT1",
      "execution_count": null,
      "outputs": []
    },
    {
      "cell_type": "code",
      "source": [
        "numeric_columns=X.select_dtypes(exclude='object').columns\n",
        "print(numeric_columns)"
      ],
      "metadata": {
        "id": "xqIsSrYGnVqd"
      },
      "id": "xqIsSrYGnVqd",
      "execution_count": null,
      "outputs": []
    },
    {
      "cell_type": "code",
      "source": [
        "categorical_columns = X.select_dtypes(include='object').columns\n",
        "print(categorical_columns)"
      ],
      "metadata": {
        "id": "e5hfm9A5ndPR"
      },
      "id": "e5hfm9A5ndPR",
      "execution_count": null,
      "outputs": []
    },
    {
      "cell_type": "markdown",
      "metadata": {
        "papermill": {
          "duration": 0.024061,
          "end_time": "2023-05-22T22:49:27.567619",
          "exception": false,
          "start_time": "2023-05-22T22:49:27.543558",
          "status": "completed"
        },
        "tags": [],
        "id": "rmmz_nHyz1UK"
      },
      "source": [
        "## 2. Correlação entre Atributos Preditivos Numéricos\n"
      ],
      "id": "rmmz_nHyz1UK"
    },
    {
      "cell_type": "code",
      "execution_count": null,
      "metadata": {
        "execution": {
          "iopub.execute_input": "2023-05-22T22:49:27.619306Z",
          "iopub.status.busy": "2023-05-22T22:49:27.618871Z",
          "iopub.status.idle": "2023-05-22T22:49:28.259080Z",
          "shell.execute_reply": "2023-05-22T22:49:28.257790Z"
        },
        "papermill": {
          "duration": 0.670223,
          "end_time": "2023-05-22T22:49:28.262414",
          "exception": false,
          "start_time": "2023-05-22T22:49:27.592191",
          "status": "completed"
        },
        "tags": [],
        "id": "GZQJ0Osuz1UM"
      },
      "outputs": [],
      "source": [
        "corr = X[numeric_columns].corr()\n",
        "\n",
        "plt.figure(figsize=(15, 10))\n",
        "plot = sns.heatmap(data=corr,\n",
        "                   annot=True, annot_kws={'size': 10, 'fontweight': 'bold'},\n",
        "                   cbar_kws={'extendfrac': .1, 'drawedges': True},\n",
        "                   cmap='seismic', vmin=-1, linewidths=.2,\n",
        "                   xticklabels=numeric_columns,\n",
        "                   yticklabels=numeric_columns\n",
        "                   )\n",
        "plot.set_yticklabels(plot.get_yticklabels(), rotation=0)\n",
        "plot.set_xticklabels(plot.get_xticklabels(), rotation=90)\n",
        "plot.set_title('Correlação entre as variáveis\\n', loc='center', fontsize=8)\n",
        "plot.tick_params(labelsize=8)\n",
        "plot.xaxis.tick_top()\n",
        "plt.show()"
      ],
      "id": "GZQJ0Osuz1UM"
    },
    {
      "cell_type": "markdown",
      "source": [
        "## Pipelines de Pre-processamento\n",
        "\n",
        "Os pipelines desempenham um papel importante em aplicações de Aprendizado de Máquina (AM) ao permitirem uma organização clara e reproduzível de processos complexos sequenciais. O Scikit-Learn oferece uma implementação robusta de pipelines, simplificando o desenvolvimento de modelos e facilitando a manutenção do código.\n",
        "\n",
        "Funcionamento do Pipeline:\n",
        "\n",
        "O pipeline é uma sequência de passos encadeados, cada um representando uma operação específica, como pré-processamento, transformação de dados oua própria construção do modelo de aprendizagem. A principal vantagem é que esses passos são encapsulados em uma única estrutura, tornando o código mais limpo, modular e  reproduzível.\n",
        "\n",
        "Construção de Pipelines:\n",
        "\n",
        "A construção de um pipeline envolve a definição de transformadores e estimadores, que são organizados em uma lista de tuplas. Cada tupla contém um nome identificador e a instância do transformador ou estimador. O pipeline é então criado usando a classe Pipeline, que aceita essa lista como argumento.\n",
        "\n",
        "Os pipelines também são essenciais para a automatização de processos, facilitando a seleção de modelos, a otimização de hiperparâmetros e a manutenção do código em cenários complexos."
      ],
      "metadata": {
        "id": "Ly_U7vdx-ApD"
      },
      "id": "Ly_U7vdx-ApD"
    },
    {
      "cell_type": "markdown",
      "source": [
        ">>SimpleImputer(strategy='median'):\n",
        "\n",
        "Esta etapa trata valores ausentes em features numéricas, substituindo-os pela mediana da respectiva coluna.\n",
        "\n",
        ">>StandardScaler(with_mean=False):\n",
        "\n",
        "Em seguida, os valores são escalados usando o StandardScaler para garantir que as features numéricas tenham média zero e variância unitária. O parâmetro with_mean=False indica que a média não deve ser centrada durante o escalonamento."
      ],
      "metadata": {
        "id": "7pQ60ddY4KUv"
      },
      "id": "7pQ60ddY4KUv"
    },
    {
      "cell_type": "code",
      "source": [
        "numeric_feature = Pipeline(steps=[('handlingmissing',SimpleImputer(strategy='median')),('scaling',StandardScaler(with_mean=False))])\n",
        "print(numeric_feature)"
      ],
      "metadata": {
        "id": "MwBdbikanRKM"
      },
      "id": "MwBdbikanRKM",
      "execution_count": null,
      "outputs": []
    },
    {
      "cell_type": "markdown",
      "source": [
        ">>SimpleImputer(strategy='most_frequent'):\n",
        "\n",
        "Assim como nas features numéricas, isso trata valores ausentes em features categóricas, substituindo-os pelo valor mais frequente da respectiva coluna.\n",
        "\n",
        ">>OneHotEncoder():\n",
        "\n",
        "Em seguida, aplica-se a codificação one-hot às features categóricas, convertendo-as em representações binárias.\n",
        "\n",
        ">>StandardScaler(with_mean=False):\n",
        "\n",
        "Similar às features numéricas, as features categóricas são escalonadas para garantir uma distribuição padrão. O parâmetro with_mean=False é usado aqui também."
      ],
      "metadata": {
        "id": "XJ-R_Dy44cIM"
      },
      "id": "XJ-R_Dy44cIM"
    },
    {
      "cell_type": "code",
      "source": [
        "categorical_feature=Pipeline(steps=[('handlingmissing',SimpleImputer(strategy='most_frequent')),('encoding',OneHotEncoder()),('scaling',StandardScaler(with_mean=False))])\n",
        "print(categorical_feature)"
      ],
      "metadata": {
        "id": "DTLFgRDNn6RK"
      },
      "id": "DTLFgRDNn6RK",
      "execution_count": null,
      "outputs": []
    },
    {
      "cell_type": "markdown",
      "source": [
        ">> ColumnTransformer:\n",
        "\n",
        "Aplica os pipelines acima. Ele usa os pipelines numeric_feature e categorical_feature para processar as colunas numéricas e categóricas, respectivamente."
      ],
      "metadata": {
        "id": "RssRu6Yo486a"
      },
      "id": "RssRu6Yo486a"
    },
    {
      "cell_type": "code",
      "source": [
        "processing = ColumnTransformer([('numeric',numeric_feature,numeric_columns),\n",
        "                                ('cat',categorical_feature,categorical_columns)])\n",
        "processing"
      ],
      "metadata": {
        "id": "fM4dAVekn6D9"
      },
      "id": "fM4dAVekn6D9",
      "execution_count": null,
      "outputs": []
    },
    {
      "cell_type": "code",
      "source": [
        "processing.fit(X)\n",
        "processed_X = processing.transform(X)"
      ],
      "metadata": {
        "id": "ve9PVOv8rCvC"
      },
      "id": "ve9PVOv8rCvC",
      "execution_count": null,
      "outputs": []
    },
    {
      "cell_type": "code",
      "source": [
        "print(X.shape)"
      ],
      "metadata": {
        "id": "S5Nhs80s_0gI"
      },
      "id": "S5Nhs80s_0gI",
      "execution_count": null,
      "outputs": []
    },
    {
      "cell_type": "code",
      "source": [
        "print(processed_X.shape)"
      ],
      "metadata": {
        "id": "o3oLFAbptWl3"
      },
      "id": "o3oLFAbptWl3",
      "execution_count": null,
      "outputs": []
    },
    {
      "cell_type": "code",
      "source": [
        "type(processed_X)"
      ],
      "metadata": {
        "id": "XF3EiJz6PabW"
      },
      "id": "XF3EiJz6PabW",
      "execution_count": null,
      "outputs": []
    },
    {
      "cell_type": "markdown",
      "source": [
        "###Matrizes Esparças\n",
        "\n",
        "scipy.sparse.csr_matrix é uma classe dentro do módulo scipy.sparse que representa uma matriz esparsa no formato CSR (Compressed Sparse Row). Matrizes esparsas são estruturas de dados eficientes para lidar com estruturas de dados que possuem a maioria dos elementos iguais a zero.\n",
        "\n",
        "A matriz CSR armazena apenas os elementos não nulos, economizando espaço em comparação com uma matriz densa. Ela mantém três arrays principais:\n",
        "\n",
        "data: Um array contendo os valores não nulos da matriz, armazenados em ordem de linha principal (row-major order).\n",
        "indices: Um array de índices que indica a coluna correspondente a cada elemento em data.\n",
        "indptr: Um array de ponteiros de índice, indicando onde começa e termina cada linha na matriz data e indices."
      ],
      "metadata": {
        "id": "hMynbxvMP34Y"
      },
      "id": "hMynbxvMP34Y"
    },
    {
      "cell_type": "code",
      "source": [
        "print(\"Matriz Esparsa CSR:\")\n",
        "print(processed_X.toarray())"
      ],
      "metadata": {
        "id": "DOnaZRlPQh0_"
      },
      "id": "DOnaZRlPQh0_",
      "execution_count": null,
      "outputs": []
    },
    {
      "cell_type": "markdown",
      "source": [
        "## Criando (Pipelines) os Modelos Preditivos\n",
        "\n",
        "Construi-se  Pipelines de machine learning com pré-processamento, redução de dimensionalidade e correlação usando PCA (Principal Component Analysis) e, finalmente, treinando o modelo.\n",
        "\n",
        ">> PCA\n",
        "\n",
        "O `TruncatedSVD` (Singular Value Decomposition) é uma técnica de redução de dimensionalidade e correlação, que é frequentemente usada em dados esparsos. No código, utiliza-se `TruncatedSVD` com `n_components=800`, o que significa que se está mantendo 800 componentes principais após a redução de dimensionalidade.\n",
        "\n",
        "Parâmetros:\n",
        "\n",
        "- **`n_components`:** Especifica o número de componentes principais a serem mantidos após a redução de dimensionalidade.\n",
        "\n",
        "- **`random_state`:** Controla a semente de geração de números aleatórios para garantir reprodutibilidade. Quando `random_state` é definido para um valor específico (por exemplo, `random_state=0`), os resultados do modelo serão os mesmos em diferentes execuções, desde que as condições de entrada também sejam as mesmas."
      ],
      "metadata": {
        "id": "Il_xbDub5ySO"
      },
      "id": "Il_xbDub5ySO"
    },
    {
      "cell_type": "code",
      "source": [
        "from sklearn.neural_network import MLPRegressor\n",
        "model0 = Pipeline(steps=[\n",
        "    ('processing', processing),\n",
        "    (\"pca\", TruncatedSVD(n_components=800, random_state=0)),\n",
        "    ('modeling', MLPRegressor(hidden_layer_sizes=(100,), random_state=0))\n",
        "])\n",
        "model0.fit(X,y)\n",
        "print(model0.score(X,y))"
      ],
      "metadata": {
        "id": "F5eR4A8AW0Py"
      },
      "id": "F5eR4A8AW0Py",
      "execution_count": null,
      "outputs": []
    },
    {
      "cell_type": "code",
      "source": [
        "# Diferentes configurações para hidden_layer_sizes\n",
        "hidden_layer_sizes_list = [(100,), (50, 25), (100, 50, 25)]\n",
        "\n",
        "# Iterando sobre as diferentes configurações\n",
        "for hidden_layer_sizes in hidden_layer_sizes_list:\n",
        "    # Criando o pipeline com pré-processamento, redução de dimensionalidade e modelo MLP\n",
        "    model = Pipeline(steps=[\n",
        "        ('processing', processing),\n",
        "        (\"pca\", TruncatedSVD(n_components=800, random_state=0)),\n",
        "        ('modeling', MLPRegressor(hidden_layer_sizes=hidden_layer_sizes, random_state=0))\n",
        "    ])\n",
        "    print(f\"Hidden Layer Sizes: {hidden_layer_sizes}\")\n",
        "    model.fit(X,y)\n",
        "    print('Score: ', model0.score(X,y))\n",
        "    print(\"\\n\"\n",
        "    )\n"
      ],
      "metadata": {
        "id": "ds8Jbla_TXlt"
      },
      "id": "ds8Jbla_TXlt",
      "execution_count": null,
      "outputs": []
    },
    {
      "cell_type": "code",
      "source": [
        "# Calcule a proporção acumulativa da variância explicada\n",
        "explained_variance_ratio_cumulative = np.cumsum(model0.named_steps['pca'].explained_variance_ratio_)\n",
        "\n",
        "# Visualize a proporção acumulativa da variância explicada\n",
        "plt.plot(explained_variance_ratio_cumulative, marker='.')\n",
        "plt.xlabel('Número de Componentes Principais')\n",
        "plt.ylabel('Proporção Cumulativa da Variância Explicada')\n",
        "plt.title('Proporção Cumulativa da Variância Explicada pelo Número de Componentes Principais')\n",
        "plt.show()"
      ],
      "metadata": {
        "id": "u_9f2_EQBS1X"
      },
      "execution_count": null,
      "outputs": [],
      "id": "u_9f2_EQBS1X"
    },
    {
      "cell_type": "markdown",
      "source": [
        "Não há um valor \"ideal\"  para a proporção da variância explicada ao escolher o número de componentes principais em uma técnica de redução de dimensionalidade como o TruncatedSVD ou PCA. A escolha depende do contexto específico do problema e dos requisitos da  aplicação.\n",
        "\n",
        "No entanto,é possível considerar algumas orientações gerais que podem ajudar na tomada de decisão:\n",
        "\n",
        "1. **80-90% de Variância Explicada:**\n",
        "   - Geralmente, um bom ponto de partida é selecionar um número de componentes principais que explique entre 80% e 90% da variância original. Isso pode ser suficiente para reter a maioria das informações relevantes enquanto ainda realiza uma redução significativa na dimensionalidade.\n",
        "\n",
        "2. **Analisar o Gráfico da Proporção Cumulativa:**\n",
        "   - Analisar o gráfico da proporção cumulativa da variância explicada em relação ao número de componentes principais. Busca-se o ponto em que a curva começa a nivelar, pois isso indica uma diminuição na taxa de ganho de informação.\n",
        "\n",
        "3. **Avaliação do Desempenho do Modelo:**\n",
        "   - Avaliar o desempenho do  modelo com diferentes números de componentes principais para determinar se um número menor ou maior de componentes principais é mais benéfico.\n",
        "\n",
        "4. **Requisitos Computacionais:**\n",
        "   - Considerar os requisitos computacionais. Reduzir significativamente a dimensionalidade pode acelerar o treinamento do modelo, mas pode não ser necessário para todos os casos."
      ],
      "metadata": {
        "id": "KXZfglbzCpuV"
      },
      "id": "KXZfglbzCpuV"
    },
    {
      "cell_type": "code",
      "source": [
        "model1=Pipeline(steps = [('processing',processing),(\"pca\",TruncatedSVD(n_components=720,random_state=0)),('modeling',LinearRegression())])\n",
        "model1.fit(X,y)"
      ],
      "metadata": {
        "id": "SPS7Cqb-wwy_"
      },
      "id": "SPS7Cqb-wwy_",
      "execution_count": null,
      "outputs": []
    },
    {
      "cell_type": "code",
      "source": [
        "model2=Pipeline(steps = [('processing',processing),(\"pca\",TruncatedSVD(n_components=720,random_state=0)),('modeling',AdaBoostRegressor())])\n",
        "model2.fit(X,y)"
      ],
      "metadata": {
        "id": "AjkVxjNMxRO1"
      },
      "id": "AjkVxjNMxRO1",
      "execution_count": null,
      "outputs": []
    },
    {
      "cell_type": "code",
      "source": [
        "model3=Pipeline(steps = [('processing',processing),(\"pca\",TruncatedSVD(n_components=720,random_state=0)),('modeling',GradientBoostingRegressor())])\n",
        "model3.fit(X,y)"
      ],
      "metadata": {
        "id": "I6R4UFcNxZ_c"
      },
      "id": "I6R4UFcNxZ_c",
      "execution_count": null,
      "outputs": []
    },
    {
      "cell_type": "markdown",
      "source": [
        "#Scores"
      ],
      "metadata": {
        "id": "lRrSNUzdF7jf"
      },
      "id": "lRrSNUzdF7jf"
    },
    {
      "cell_type": "code",
      "source": [
        "print(model0.score(X,y))\n",
        "print(model1.score(X,y))\n",
        "print(model2.score(X,y))\n",
        "print(model3.score(X,y))"
      ],
      "metadata": {
        "id": "NhZRIlvxxjee"
      },
      "id": "NhZRIlvxxjee",
      "execution_count": null,
      "outputs": []
    },
    {
      "cell_type": "markdown",
      "source": [
        "\n",
        "O método score em modelos de regressão, calcula o coeficiente de determinação R² do modelo. O R² é uma métrica que indica a proporção da variabilidade na variável dependente que é explicada pelo modelo\n",
        "\n",
        "O R² varia de 0 a 1, e um valor mais próximo de 1 indica que o modelo é capaz de explicar uma maior proporção da variabilidade na variável dependente.\n",
        "\n",
        "No entanto, é importante notar que o R² não é uma métrica infalível e pode não ser suficiente por si só para avaliar completamente a adequação de um modelo. Outras métricas, como o erro médio absoluto (MAE) ou o erro médio quadrático (MSE), também são úteis para avaliar diferentes aspectos do desempenho do modelo.\n",
        "\n",
        "Ao utilizar o R², é sempre recomendável considerar outras métricas e realizar uma análise abrangente do desempenho do modelo.\n",
        "\n",
        "1. **Erro Médio Absoluto (MAE):**\n",
        "   - O MAE é a média das diferenças absolutas entre as previsões do modelo e os valores reais.\n",
        "   - O MAE fornece uma medida da magnitude média dos erros, independentemente da direção.\n",
        "\n",
        "2. **Erro Médio Quadrático (MSE):**\n",
        "   - O MSE é a média dos quadrados das diferenças entre as previsões do modelo e os valores reais.\n",
        "   - O MSE penaliza erros maiores devido ao termo quadrático.\n",
        "\n",
        "3. **Raiz Quadrada do Erro Médio Quadrático (RMSE):**\n",
        "   - O RMSE é a raiz quadrada do MSE e fornece uma interpretação na mesma unidade da variável dependente.\n",
        "\n",
        "4. **Erro Percentual Absoluto Médio (MAPE):**\n",
        "   - O MAPE é uma métrica de erro percentual que expressa o erro como uma porcentagem da média dos valores reais. É calculado como:\n",
        "   - É útil quando se deseja avaliar o erro relativo em termos percentuais.\n",
        "\n",
        "5. Coeficiente de Correlação de Pearson:\n",
        "\n",
        "  - Mede a força e a direção da relação linear entre as previsões e os valores reais.\n",
        "  - Varia de -1 a 1, onde 1 indica uma correlação positiva perfeita, -1 indica uma correlação negativa perfeita e 0 indica ausência de correlação.\n"
      ],
      "metadata": {
        "id": "ULIuw03TDpa0"
      },
      "id": "ULIuw03TDpa0"
    },
    {
      "cell_type": "code",
      "source": [
        "import joblib\n",
        "joblib.dump(model0, 'carbPred0.pkl')"
      ],
      "metadata": {
        "id": "PH4jfdTFG-iQ"
      },
      "id": "PH4jfdTFG-iQ",
      "execution_count": null,
      "outputs": []
    },
    {
      "cell_type": "code",
      "source": [
        "loaded_model = joblib.load('/content/carbPred0.pkl')\n",
        "y_pred = loaded_model.predict(X)"
      ],
      "metadata": {
        "id": "pQEiyvZXIGYI"
      },
      "id": "pQEiyvZXIGYI",
      "execution_count": null,
      "outputs": []
    },
    {
      "cell_type": "code",
      "source": [
        "from sklearn.metrics import mean_absolute_error, mean_squared_error, r2_score\n",
        "from sklearn.metrics import mean_absolute_percentage_error\n",
        "from sklearn.metrics import matthews_corrcoef\n",
        "\n",
        "# Calculando métricas de regressão\n",
        "mae = mean_absolute_error(y, y_pred)\n",
        "mse = mean_squared_error(y, y_pred)\n",
        "rmse = mean_squared_error(y, y_pred, squared=False)  # Para obter a raiz quadrada do MSE\n",
        "r2 = r2_score(y, y_pred)\n",
        "\n",
        "# Calculando métrica de erro percentual\n",
        "mape = mean_absolute_percentage_error(y, y_pred)\n",
        "\n",
        "# Calculando coeficiente de correlação de Pearson\n",
        "correlation = np.corrcoef(y, y_pred)[0, 1]\n",
        "\n",
        "print(\"MAE:\", mae)\n",
        "print(\"MSE:\", mse)\n",
        "print(\"RMSE:\", rmse)\n",
        "print(\"R²:\", r2)\n",
        "print(\"MAPE:\", mape)\n",
        "print(\"Coeficiente de Correlação de Pearson:\", correlation)"
      ],
      "metadata": {
        "id": "P40G7Y32GHOg"
      },
      "id": "P40G7Y32GHOg",
      "execution_count": null,
      "outputs": []
    },
    {
      "cell_type": "code",
      "source": [
        "# Define your pipeline\n",
        "pipe = Pipeline([\n",
        "    (\"processing\", processing),\n",
        "    (\"pca\", TruncatedSVD(n_components=720, random_state=0)),\n",
        "    (\"modeling\", GradientBoostingRegressor())\n",
        "])\n"
      ],
      "metadata": {
        "id": "x08c4PQqwDua"
      },
      "id": "x08c4PQqwDua",
      "execution_count": null,
      "outputs": []
    },
    {
      "cell_type": "code",
      "source": [
        "from sklearn.model_selection import KFold\n",
        "\n",
        "# Criar um objeto KFold\n",
        "kf = KFold(n_splits=10, shuffle=True, random_state=0)\n",
        "\n",
        "# Treinar o modelo usando validação cruzada\n",
        "scores = cross_val_score(\n",
        "    pipe, X, y, scoring=\"r2\", cv=kf\n",
        ")\n",
        "\n",
        "# Imprimir as pontuações de avaliação\n",
        "print(scores)\n"
      ],
      "metadata": {
        "id": "XGKX4raXk7EI",
        "colab": {
          "base_uri": "https://localhost:8080/"
        },
        "outputId": "56d7fd0e-5cef-482c-b7fa-c5a9a6e6d00d"
      },
      "id": "XGKX4raXk7EI",
      "execution_count": null,
      "outputs": [
        {
          "output_type": "stream",
          "name": "stderr",
          "text": [
            "/usr/local/lib/python3.10/dist-packages/sklearn/model_selection/_validation.py:839: UserWarning: Scoring failed. The score on this train-test partition for these parameters will be set to nan. Details: \n",
            "Traceback (most recent call last):\n",
            "  File \"/usr/local/lib/python3.10/dist-packages/sklearn/metrics/_scorer.py\", line 136, in __call__\n",
            "    score = scorer._score(\n",
            "  File \"/usr/local/lib/python3.10/dist-packages/sklearn/metrics/_scorer.py\", line 353, in _score\n",
            "    y_pred = method_caller(estimator, \"predict\", X)\n",
            "  File \"/usr/local/lib/python3.10/dist-packages/sklearn/metrics/_scorer.py\", line 86, in _cached_call\n",
            "    result, _ = _get_response_values(\n",
            "  File \"/usr/local/lib/python3.10/dist-packages/sklearn/utils/_response.py\", line 218, in _get_response_values\n",
            "    y_pred, pos_label = estimator.predict(X), None\n",
            "  File \"/usr/local/lib/python3.10/dist-packages/sklearn/pipeline.py\", line 514, in predict\n",
            "    Xt = transform.transform(Xt)\n",
            "  File \"/usr/local/lib/python3.10/dist-packages/sklearn/utils/_set_output.py\", line 157, in wrapped\n",
            "    data_to_wrap = f(self, X, *args, **kwargs)\n",
            "  File \"/usr/local/lib/python3.10/dist-packages/sklearn/compose/_column_transformer.py\", line 827, in transform\n",
            "    Xs = self._fit_transform(\n",
            "  File \"/usr/local/lib/python3.10/dist-packages/sklearn/compose/_column_transformer.py\", line 681, in _fit_transform\n",
            "    return Parallel(n_jobs=self.n_jobs)(\n",
            "  File \"/usr/local/lib/python3.10/dist-packages/sklearn/utils/parallel.py\", line 65, in __call__\n",
            "    return super().__call__(iterable_with_config)\n",
            "  File \"/usr/local/lib/python3.10/dist-packages/joblib/parallel.py\", line 1863, in __call__\n",
            "    return output if self.return_generator else list(output)\n",
            "  File \"/usr/local/lib/python3.10/dist-packages/joblib/parallel.py\", line 1792, in _get_sequential_output\n",
            "    res = func(*args, **kwargs)\n",
            "  File \"/usr/local/lib/python3.10/dist-packages/sklearn/utils/parallel.py\", line 127, in __call__\n",
            "    return self.function(*args, **kwargs)\n",
            "  File \"/usr/local/lib/python3.10/dist-packages/sklearn/pipeline.py\", line 940, in _transform_one\n",
            "    res = transformer.transform(X)\n",
            "  File \"/usr/local/lib/python3.10/dist-packages/sklearn/pipeline.py\", line 696, in transform\n",
            "    Xt = transform.transform(Xt)\n",
            "  File \"/usr/local/lib/python3.10/dist-packages/sklearn/utils/_set_output.py\", line 157, in wrapped\n",
            "    data_to_wrap = f(self, X, *args, **kwargs)\n",
            "  File \"/usr/local/lib/python3.10/dist-packages/sklearn/preprocessing/_encoders.py\", line 1027, in transform\n",
            "    X_int, X_mask = self._transform(\n",
            "  File \"/usr/local/lib/python3.10/dist-packages/sklearn/preprocessing/_encoders.py\", line 200, in _transform\n",
            "    raise ValueError(msg)\n",
            "ValueError: Found unknown categories ['Silverado 4WD (With Sport Mode)', 'Encore GX AWD', 'Sienna', '1500 4X4 TRX', 'Cayenne Coupe', 'Envision', 'TT Coupe 45 TFSI quattro', 'CLS 450 4MATIC Coupe', 'Challenger AWD', 'G70 AWD', 'ES 250 AWD', 'S90 B6 AWD', 'AMG C 43 4MATIC Coupe', 'DB11 V8', 'Panamera 4S', 'Panamera', 'Q3 40 TFSI quattro', 'Defender 90 5.0L V8', 'M8 Cabriolet Competition', 'Bentayga Speed', 'AMG GLE 53 4MATIC+ SUV', 'S8 Sedan quattro', 'CT4', 'Prius AWD', 'Camry XSE', 'Range Rover SVAutobiography', 'Panamera GTS', '750i xDrive Sedan', 'Maxima', 'Traverse AWD', 'Escape Hybrid AWD', 'Pacifica AWD', 'Mazda3 5-Door Turbo 4WD', 'Trax AWD', 'F-TYPE R Convertible AWD', 'LX 600', 'IONIQ Blue', 'Sierra 4WD Mud Terrain Tire (No DFM)', 'S60 B5 AWD', 'CX-5 Turbo 4WD', 'Ghibli Trofeo', 'CX-3 (SIL)', 'NX 250 AWD', 'M5 CS', 'GLS 450 4MATIC SUV', '1500 HFE EcoDiesel', 'AMG C 43 4MATIC Cabriolet', 'Escape Hybrid', 'F-TYPE P450 Convertible', 'Panamera 4S ST', 'Accord Hybrid', 'Corolla Cross AWD', 'Quattroporte GT', 'Challenger Widebody (MDS)', 'Discovery P360'] in column 1 during transform\n",
            "\n",
            "  warnings.warn(\n",
            "/usr/local/lib/python3.10/dist-packages/sklearn/model_selection/_validation.py:839: UserWarning: Scoring failed. The score on this train-test partition for these parameters will be set to nan. Details: \n",
            "Traceback (most recent call last):\n",
            "  File \"/usr/local/lib/python3.10/dist-packages/sklearn/metrics/_scorer.py\", line 136, in __call__\n",
            "    score = scorer._score(\n",
            "  File \"/usr/local/lib/python3.10/dist-packages/sklearn/metrics/_scorer.py\", line 353, in _score\n",
            "    y_pred = method_caller(estimator, \"predict\", X)\n",
            "  File \"/usr/local/lib/python3.10/dist-packages/sklearn/metrics/_scorer.py\", line 86, in _cached_call\n",
            "    result, _ = _get_response_values(\n",
            "  File \"/usr/local/lib/python3.10/dist-packages/sklearn/utils/_response.py\", line 218, in _get_response_values\n",
            "    y_pred, pos_label = estimator.predict(X), None\n",
            "  File \"/usr/local/lib/python3.10/dist-packages/sklearn/pipeline.py\", line 514, in predict\n",
            "    Xt = transform.transform(Xt)\n",
            "  File \"/usr/local/lib/python3.10/dist-packages/sklearn/utils/_set_output.py\", line 157, in wrapped\n",
            "    data_to_wrap = f(self, X, *args, **kwargs)\n",
            "  File \"/usr/local/lib/python3.10/dist-packages/sklearn/compose/_column_transformer.py\", line 827, in transform\n",
            "    Xs = self._fit_transform(\n",
            "  File \"/usr/local/lib/python3.10/dist-packages/sklearn/compose/_column_transformer.py\", line 681, in _fit_transform\n",
            "    return Parallel(n_jobs=self.n_jobs)(\n",
            "  File \"/usr/local/lib/python3.10/dist-packages/sklearn/utils/parallel.py\", line 65, in __call__\n",
            "    return super().__call__(iterable_with_config)\n",
            "  File \"/usr/local/lib/python3.10/dist-packages/joblib/parallel.py\", line 1863, in __call__\n",
            "    return output if self.return_generator else list(output)\n",
            "  File \"/usr/local/lib/python3.10/dist-packages/joblib/parallel.py\", line 1792, in _get_sequential_output\n",
            "    res = func(*args, **kwargs)\n",
            "  File \"/usr/local/lib/python3.10/dist-packages/sklearn/utils/parallel.py\", line 127, in __call__\n",
            "    return self.function(*args, **kwargs)\n",
            "  File \"/usr/local/lib/python3.10/dist-packages/sklearn/pipeline.py\", line 940, in _transform_one\n",
            "    res = transformer.transform(X)\n",
            "  File \"/usr/local/lib/python3.10/dist-packages/sklearn/pipeline.py\", line 696, in transform\n",
            "    Xt = transform.transform(Xt)\n",
            "  File \"/usr/local/lib/python3.10/dist-packages/sklearn/utils/_set_output.py\", line 157, in wrapped\n",
            "    data_to_wrap = f(self, X, *args, **kwargs)\n",
            "  File \"/usr/local/lib/python3.10/dist-packages/sklearn/preprocessing/_encoders.py\", line 1027, in transform\n",
            "    X_int, X_mask = self._transform(\n",
            "  File \"/usr/local/lib/python3.10/dist-packages/sklearn/preprocessing/_encoders.py\", line 200, in _transform\n",
            "    raise ValueError(msg)\n",
            "ValueError: Found unknown categories ['Palisade AWD', 'RX 350 AWD', 'ProMaster City', '4Runner 4WD', 'Cooper S Countryman ALL4', 'Escape', 'Panamera 4', 'Giulia', 'GT', 'Frontier 4WD', 'F-150 Raptor 37 4X4', 'Q7 55 TFSI quattro', 'X3 M', 'F-TYPE P450 Convertible AWD', 'Defender 110 P300', 'Q50 AWD', 'F-TYPE P450 Coupe', 'Q60 AWD', 'Huracan evo Spyder', 'Explorer AWD', 'Charger AWD', 'A6 Sedan 55 TFSI quattro', 'TT RS Coupe quattro', 'M8 Coupe Competition', 'Range Rover Sport P360', 'AMG A 35 4MATIC Hatch', 'F-150 Raptor 4X4 (Without Stop-Start)', 'Tucson', 'R8 Coupe Performance quattro', 'CR-V AWD', 'XC60 B5 AWD', 'MX-5', 'Tiguan 4MOTION', 'Ranger 4WD (Without Stop-Start)', 'Carnival', 'Murano AWD', 'Q5 45 TFSI quattro', 'Odyssey', 'X5 M Competition', 'Range Rover P360', 'Camry TRD', 'CX-3 4WD', 'Grand Caravan', 'TLX SH-AWD A-SPEC', '1500 4X4', 'GLE 350 4MATIC SUV', 'A8 L Sedan 55 TFSI quattro', 'AMG GLC 43 4MATIC Coupe', 'Range Rover Sport P525', 'Camry AWD XSE', 'QX50 AWD', 'Highlander Hybrid AWD', 'Panamera Turbo S', 'Macan', 'Q60 AWD Red Sport', 'E 450 4MATIC Coupe', 'GLC 300 4MATIC Coupe'] in column 1 during transform\n",
            "\n",
            "  warnings.warn(\n",
            "/usr/local/lib/python3.10/dist-packages/sklearn/model_selection/_validation.py:839: UserWarning: Scoring failed. The score on this train-test partition for these parameters will be set to nan. Details: \n",
            "Traceback (most recent call last):\n",
            "  File \"/usr/local/lib/python3.10/dist-packages/sklearn/metrics/_scorer.py\", line 136, in __call__\n",
            "    score = scorer._score(\n",
            "  File \"/usr/local/lib/python3.10/dist-packages/sklearn/metrics/_scorer.py\", line 353, in _score\n",
            "    y_pred = method_caller(estimator, \"predict\", X)\n",
            "  File \"/usr/local/lib/python3.10/dist-packages/sklearn/metrics/_scorer.py\", line 86, in _cached_call\n",
            "    result, _ = _get_response_values(\n",
            "  File \"/usr/local/lib/python3.10/dist-packages/sklearn/utils/_response.py\", line 218, in _get_response_values\n",
            "    y_pred, pos_label = estimator.predict(X), None\n",
            "  File \"/usr/local/lib/python3.10/dist-packages/sklearn/pipeline.py\", line 514, in predict\n",
            "    Xt = transform.transform(Xt)\n",
            "  File \"/usr/local/lib/python3.10/dist-packages/sklearn/utils/_set_output.py\", line 157, in wrapped\n",
            "    data_to_wrap = f(self, X, *args, **kwargs)\n",
            "  File \"/usr/local/lib/python3.10/dist-packages/sklearn/compose/_column_transformer.py\", line 827, in transform\n",
            "    Xs = self._fit_transform(\n",
            "  File \"/usr/local/lib/python3.10/dist-packages/sklearn/compose/_column_transformer.py\", line 681, in _fit_transform\n",
            "    return Parallel(n_jobs=self.n_jobs)(\n",
            "  File \"/usr/local/lib/python3.10/dist-packages/sklearn/utils/parallel.py\", line 65, in __call__\n",
            "    return super().__call__(iterable_with_config)\n",
            "  File \"/usr/local/lib/python3.10/dist-packages/joblib/parallel.py\", line 1863, in __call__\n",
            "    return output if self.return_generator else list(output)\n",
            "  File \"/usr/local/lib/python3.10/dist-packages/joblib/parallel.py\", line 1792, in _get_sequential_output\n",
            "    res = func(*args, **kwargs)\n",
            "  File \"/usr/local/lib/python3.10/dist-packages/sklearn/utils/parallel.py\", line 127, in __call__\n",
            "    return self.function(*args, **kwargs)\n",
            "  File \"/usr/local/lib/python3.10/dist-packages/sklearn/pipeline.py\", line 940, in _transform_one\n",
            "    res = transformer.transform(X)\n",
            "  File \"/usr/local/lib/python3.10/dist-packages/sklearn/pipeline.py\", line 696, in transform\n",
            "    Xt = transform.transform(Xt)\n",
            "  File \"/usr/local/lib/python3.10/dist-packages/sklearn/utils/_set_output.py\", line 157, in wrapped\n",
            "    data_to_wrap = f(self, X, *args, **kwargs)\n",
            "  File \"/usr/local/lib/python3.10/dist-packages/sklearn/preprocessing/_encoders.py\", line 1027, in transform\n",
            "    X_int, X_mask = self._transform(\n",
            "  File \"/usr/local/lib/python3.10/dist-packages/sklearn/preprocessing/_encoders.py\", line 200, in _transform\n",
            "    raise ValueError(msg)\n",
            "ValueError: Found unknown categories ['M8 Gran Coupe Competition', 'Terrain AWD', 'RDX SH-AWD', '911 Carrera 4', 'Highlander AWD', 'Highlander Hybrid AWD Limited/Platinum', 'MDX SH-AWD', 'E 450 4MATIC Cabriolet', 'XC90 T5 AWD', 'IS 300 AWD', 'CT5-V', 'Tacoma 4WD', 'Giulia Quadrifoglio', 'Camry AWD SE', 'Charger Widebody (MDS)', 'V60 T6 AWD', 'Explorer Timberline AWD', 'GLE 450 4MATIC SUV', 'Alpina B7', 'Veloster N', 'Camry Hybrid LE', 'S4 Sedan quattro', 'Kona N', 'Q50 AWD Red Sport', 'Corolla XLE', 'ES 300h', 'Maverick AWD', '1500 4X4 EcoDiesel', '530i xDrive Sedan', 'Wrangler JL Unlimited 4X4 Rubicon EcoDiesel', 'AMG CLS 53 4MATIC+ Coupe', 'C 300 4MATIC Coupe', 'Outback Wilderness AWD', 'Vantage V8', 'Frontier', 'Yukon (No Stop-Start)', 'GLE 450 4MATIC Coupe', 'S5 Cabriolet quattro', 'Escalade 4WD (No Stop-Start)', 'R8 Coupe Performance', 'Ridgeline AWD', '300 AWD', 'M3 Competition Sedan', 'A4 Sedan 40 TFSI quattro', 'Wrangler JL 4X4 eTorque', 'RS 6 Avant quattro', 'Continental GT Convertible', 'Ghibli Modena AWD', 'Corolla Cross', 'S7 Sportback quattro', 'F-150 Raptor 37 4X4 (Without Stop-Start)', 'Levante Trofeo'] in column 1 during transform\n",
            "\n",
            "  warnings.warn(\n",
            "/usr/local/lib/python3.10/dist-packages/sklearn/model_selection/_validation.py:839: UserWarning: Scoring failed. The score on this train-test partition for these parameters will be set to nan. Details: \n",
            "Traceback (most recent call last):\n",
            "  File \"/usr/local/lib/python3.10/dist-packages/sklearn/metrics/_scorer.py\", line 136, in __call__\n",
            "    score = scorer._score(\n",
            "  File \"/usr/local/lib/python3.10/dist-packages/sklearn/metrics/_scorer.py\", line 353, in _score\n",
            "    y_pred = method_caller(estimator, \"predict\", X)\n",
            "  File \"/usr/local/lib/python3.10/dist-packages/sklearn/metrics/_scorer.py\", line 86, in _cached_call\n",
            "    result, _ = _get_response_values(\n",
            "  File \"/usr/local/lib/python3.10/dist-packages/sklearn/utils/_response.py\", line 218, in _get_response_values\n",
            "    y_pred, pos_label = estimator.predict(X), None\n",
            "  File \"/usr/local/lib/python3.10/dist-packages/sklearn/pipeline.py\", line 514, in predict\n",
            "    Xt = transform.transform(Xt)\n",
            "  File \"/usr/local/lib/python3.10/dist-packages/sklearn/utils/_set_output.py\", line 157, in wrapped\n",
            "    data_to_wrap = f(self, X, *args, **kwargs)\n",
            "  File \"/usr/local/lib/python3.10/dist-packages/sklearn/compose/_column_transformer.py\", line 827, in transform\n",
            "    Xs = self._fit_transform(\n",
            "  File \"/usr/local/lib/python3.10/dist-packages/sklearn/compose/_column_transformer.py\", line 681, in _fit_transform\n",
            "    return Parallel(n_jobs=self.n_jobs)(\n",
            "  File \"/usr/local/lib/python3.10/dist-packages/sklearn/utils/parallel.py\", line 65, in __call__\n",
            "    return super().__call__(iterable_with_config)\n",
            "  File \"/usr/local/lib/python3.10/dist-packages/joblib/parallel.py\", line 1863, in __call__\n",
            "    return output if self.return_generator else list(output)\n",
            "  File \"/usr/local/lib/python3.10/dist-packages/joblib/parallel.py\", line 1792, in _get_sequential_output\n",
            "    res = func(*args, **kwargs)\n",
            "  File \"/usr/local/lib/python3.10/dist-packages/sklearn/utils/parallel.py\", line 127, in __call__\n",
            "    return self.function(*args, **kwargs)\n",
            "  File \"/usr/local/lib/python3.10/dist-packages/sklearn/pipeline.py\", line 940, in _transform_one\n",
            "    res = transformer.transform(X)\n",
            "  File \"/usr/local/lib/python3.10/dist-packages/sklearn/pipeline.py\", line 696, in transform\n",
            "    Xt = transform.transform(Xt)\n",
            "  File \"/usr/local/lib/python3.10/dist-packages/sklearn/utils/_set_output.py\", line 157, in wrapped\n",
            "    data_to_wrap = f(self, X, *args, **kwargs)\n",
            "  File \"/usr/local/lib/python3.10/dist-packages/sklearn/preprocessing/_encoders.py\", line 1027, in transform\n",
            "    X_int, X_mask = self._transform(\n",
            "  File \"/usr/local/lib/python3.10/dist-packages/sklearn/preprocessing/_encoders.py\", line 200, in _transform\n",
            "    raise ValueError(msg)\n",
            "ValueError: Found unknown categories ['M440i xDrive Cabriolet', 'CX-5 4WD', '1500 EcoDiesel', 'Tundra', 'Panamera Turbo S Executive', 'E 450 4MATIC All-Terrain Wagon', 'Renegade', 'A 250 4MATIC Hatch', 'Shelby GT500 Mustang', 'DBX V8', 'Defender 90 P300', 'X6 M50i', '750Li xDrive Sedan', 'Renegade 4X4 Trailhawk', 'X1 xDrive28i', 'F-150 Tremor 4X4', 'F-TYPE R Coupe AWD', 'Forester AWD', 'Sienna AWD', 'X6 xDrive40i', 'XT5', 'V90 CC B6 AWD', 'Sierra 4WD (With Sport Mode)', 'Alpina XB7', 'C-HR', 'John Cooper Works Countryman ALL4', 'F-150 FFV (Without Stop-Start)', 'S3 Sedan quattro', 'Compass 4X4', 'S60 B5', 'Q5 Sportback 45 TFSI quattro', '911 Carrera', 'XC90 T6 AWD', 'GR Supra 2.0', 'IS 300', 'X4 M Competition', 'RAV4 AWD (Stop/Start)', '540i xDrive Sedan', 'Taos 4MOTION', 'Expedition 4X4 (Without Stop-Start)', 'AMG E 53 4MATIC+ Sedan', 'Sorento Hybrid AWD', 'Stelvio AWD', 'A4 Sedan 45 TFSI quattro', 'Seltos AWD', 'Ghost', 'Tiguan R-Line 4MOTION', 'S5 Sportback quattro', 'Challenger Widebody', 'X4 xDrive30i', 'Bentayga', 'CT5-V AWD', 'John Cooper Works Clubman ALL4', 'Santa Cruz AWD', 'V60 CC T5 AWD'] in column 1 during transform\n",
            "\n",
            "  warnings.warn(\n",
            "/usr/local/lib/python3.10/dist-packages/sklearn/model_selection/_validation.py:839: UserWarning: Scoring failed. The score on this train-test partition for these parameters will be set to nan. Details: \n",
            "Traceback (most recent call last):\n",
            "  File \"/usr/local/lib/python3.10/dist-packages/sklearn/metrics/_scorer.py\", line 136, in __call__\n",
            "    score = scorer._score(\n",
            "  File \"/usr/local/lib/python3.10/dist-packages/sklearn/metrics/_scorer.py\", line 353, in _score\n",
            "    y_pred = method_caller(estimator, \"predict\", X)\n",
            "  File \"/usr/local/lib/python3.10/dist-packages/sklearn/metrics/_scorer.py\", line 86, in _cached_call\n",
            "    result, _ = _get_response_values(\n",
            "  File \"/usr/local/lib/python3.10/dist-packages/sklearn/utils/_response.py\", line 218, in _get_response_values\n",
            "    y_pred, pos_label = estimator.predict(X), None\n",
            "  File \"/usr/local/lib/python3.10/dist-packages/sklearn/pipeline.py\", line 514, in predict\n",
            "    Xt = transform.transform(Xt)\n",
            "  File \"/usr/local/lib/python3.10/dist-packages/sklearn/utils/_set_output.py\", line 157, in wrapped\n",
            "    data_to_wrap = f(self, X, *args, **kwargs)\n",
            "  File \"/usr/local/lib/python3.10/dist-packages/sklearn/compose/_column_transformer.py\", line 827, in transform\n",
            "    Xs = self._fit_transform(\n",
            "  File \"/usr/local/lib/python3.10/dist-packages/sklearn/compose/_column_transformer.py\", line 681, in _fit_transform\n",
            "    return Parallel(n_jobs=self.n_jobs)(\n",
            "  File \"/usr/local/lib/python3.10/dist-packages/sklearn/utils/parallel.py\", line 65, in __call__\n",
            "    return super().__call__(iterable_with_config)\n",
            "  File \"/usr/local/lib/python3.10/dist-packages/joblib/parallel.py\", line 1863, in __call__\n",
            "    return output if self.return_generator else list(output)\n",
            "  File \"/usr/local/lib/python3.10/dist-packages/joblib/parallel.py\", line 1792, in _get_sequential_output\n",
            "    res = func(*args, **kwargs)\n",
            "  File \"/usr/local/lib/python3.10/dist-packages/sklearn/utils/parallel.py\", line 127, in __call__\n",
            "    return self.function(*args, **kwargs)\n",
            "  File \"/usr/local/lib/python3.10/dist-packages/sklearn/pipeline.py\", line 940, in _transform_one\n",
            "    res = transformer.transform(X)\n",
            "  File \"/usr/local/lib/python3.10/dist-packages/sklearn/pipeline.py\", line 696, in transform\n",
            "    Xt = transform.transform(Xt)\n",
            "  File \"/usr/local/lib/python3.10/dist-packages/sklearn/utils/_set_output.py\", line 157, in wrapped\n",
            "    data_to_wrap = f(self, X, *args, **kwargs)\n",
            "  File \"/usr/local/lib/python3.10/dist-packages/sklearn/preprocessing/_encoders.py\", line 1027, in transform\n",
            "    X_int, X_mask = self._transform(\n",
            "  File \"/usr/local/lib/python3.10/dist-packages/sklearn/preprocessing/_encoders.py\", line 200, in _transform\n",
            "    raise ValueError(msg)\n",
            "ValueError: Found unknown categories ['Explorer Hybrid AWD', '4Runner 4WD (Part-Time 4WD) ', 'Mazda3 4-Door (SIL)', 'CX-30 Turbo 4WD', 'S5 Coupe quattro', 'Cullinan Black Badge', 'DB11 V12', 'Sierra 4WD (No DFM)', 'Range Rover SVAutobiography LWB', 'AMG GLA 35 4MATIC SUV', 'Metris Cargo Van LWB', 'Trailblazer AWD', 'Aventador Roadster', 'Civic Sedan Si', 'M4 Competition Coupe', 'Tundra Hybrid 4WD TRD PRO', 'Panamera 4 Executive', 'F-150 Tremor 4X4 (Without Stop-Start)', 'Defender 110 P400', 'Armada 4WD', 'Panamera 4 ST', 'E-PACE P250', 'Silverado 4WD Mud Terrain Tire (No DFM)', 'Continental GT', 'Corvette', 'M5 Competition', 'Charger', 'Quattroporte Modena', 'Taos', 'Ghost EWB', 'UX 250h AWD', 'Jetta SE/SEL', 'IS 500', 'S 580 4MATIC LWB Sedan', 'Elantra Hybrid Blue', 'Wagoneer 4X4', 'QX60 AWD', 'Expedition Timberline 4X4 (Without Stop-Start)', 'M8 Cabriolet', 'F-TYPE P450 Coupe AWD', 'XC60 B6 AWD', 'Expedition Timberline 4X4', 'RVR', 'Panamera GTS ST', 'XC40 T4 AWD', 'LC 500 Convertible', 'Silverado 4WD ZR2', 'Suburban (No Stop-Start)', 'M4 Coupe', 'Camry XSE V6', 'Chiron', 'M8 Gran Coupe', 'Gladiator 4X4 EcoDiesel', 'A4 allroad 45 TFSI quattro', 'Levante Modena', 'TLX Type S', '430i xDrive Coupe', 'RAV4 (Stop/Start)', 'A 220 4MATIC Sedan', 'Aventador Coupe'] in column 1 during transform\n",
            "\n",
            "  warnings.warn(\n",
            "/usr/local/lib/python3.10/dist-packages/sklearn/model_selection/_validation.py:839: UserWarning: Scoring failed. The score on this train-test partition for these parameters will be set to nan. Details: \n",
            "Traceback (most recent call last):\n",
            "  File \"/usr/local/lib/python3.10/dist-packages/sklearn/metrics/_scorer.py\", line 136, in __call__\n",
            "    score = scorer._score(\n",
            "  File \"/usr/local/lib/python3.10/dist-packages/sklearn/metrics/_scorer.py\", line 353, in _score\n",
            "    y_pred = method_caller(estimator, \"predict\", X)\n",
            "  File \"/usr/local/lib/python3.10/dist-packages/sklearn/metrics/_scorer.py\", line 86, in _cached_call\n",
            "    result, _ = _get_response_values(\n",
            "  File \"/usr/local/lib/python3.10/dist-packages/sklearn/utils/_response.py\", line 218, in _get_response_values\n",
            "    y_pred, pos_label = estimator.predict(X), None\n",
            "  File \"/usr/local/lib/python3.10/dist-packages/sklearn/pipeline.py\", line 514, in predict\n",
            "    Xt = transform.transform(Xt)\n",
            "  File \"/usr/local/lib/python3.10/dist-packages/sklearn/utils/_set_output.py\", line 157, in wrapped\n",
            "    data_to_wrap = f(self, X, *args, **kwargs)\n",
            "  File \"/usr/local/lib/python3.10/dist-packages/sklearn/compose/_column_transformer.py\", line 827, in transform\n",
            "    Xs = self._fit_transform(\n",
            "  File \"/usr/local/lib/python3.10/dist-packages/sklearn/compose/_column_transformer.py\", line 681, in _fit_transform\n",
            "    return Parallel(n_jobs=self.n_jobs)(\n",
            "  File \"/usr/local/lib/python3.10/dist-packages/sklearn/utils/parallel.py\", line 65, in __call__\n",
            "    return super().__call__(iterable_with_config)\n",
            "  File \"/usr/local/lib/python3.10/dist-packages/joblib/parallel.py\", line 1863, in __call__\n",
            "    return output if self.return_generator else list(output)\n",
            "  File \"/usr/local/lib/python3.10/dist-packages/joblib/parallel.py\", line 1792, in _get_sequential_output\n",
            "    res = func(*args, **kwargs)\n",
            "  File \"/usr/local/lib/python3.10/dist-packages/sklearn/utils/parallel.py\", line 127, in __call__\n",
            "    return self.function(*args, **kwargs)\n",
            "  File \"/usr/local/lib/python3.10/dist-packages/sklearn/pipeline.py\", line 940, in _transform_one\n",
            "    res = transformer.transform(X)\n",
            "  File \"/usr/local/lib/python3.10/dist-packages/sklearn/pipeline.py\", line 696, in transform\n",
            "    Xt = transform.transform(Xt)\n",
            "  File \"/usr/local/lib/python3.10/dist-packages/sklearn/utils/_set_output.py\", line 157, in wrapped\n",
            "    data_to_wrap = f(self, X, *args, **kwargs)\n",
            "  File \"/usr/local/lib/python3.10/dist-packages/sklearn/preprocessing/_encoders.py\", line 1027, in transform\n",
            "    X_int, X_mask = self._transform(\n",
            "  File \"/usr/local/lib/python3.10/dist-packages/sklearn/preprocessing/_encoders.py\", line 200, in _transform\n",
            "    raise ValueError(msg)\n",
            "ValueError: Found unknown categories ['Tucson AWD', 'A6 Sedan 45 TFSI quattro', 'X6 M Competition', 'RAV4 AWD', 'Cherokee 4X4 Active Drive Lock', 'X6 M', 'AMG GLE 53 4MATIC+ Coupe', 'TLX Type S (Performance Tire)', 'Silverado 4WD (No DFM)', 'RAV4 Hybrid AWD', 'Ghost Black Badge', 'M850i xDrive Gran Coupe', 'Maverick Hybrid', 'Cayenne Turbo Coupe', 'Compass', 'Tahoe (No Stop-Start)', 'Sonata Hybrid', 'Venza AWD', 'Traverse', 'Q8 55 TFSI quattro', 'MC20', 'RC 350 AWD', 'M8 Coupe', 'ILX', 'X3 xDrive30i', 'AMG GT 53 4MATIC+ Coupe', 'Quattroporte Modena AWD', 'AMG GLB 35 4MATIC SUV', 'Ranger 4WD', 'M850i xDrive Coupe', 'Santa Fe AWD', 'RDX SH-AWD A-SPEC', 'SQ5 quattro', 'RS 7 Sportback quattro', 'Tucson Hybrid', 'ES 350 F SPORT', 'Encore', 'GLA 250 4MATIC SUV', 'TTS Coupe quattro', 'Ghibli Modena', 'Kicks', 'Cayenne Turbo GT', 'Chiron Pur Sport', 'Cooper Countryman ALL4', 'UX 200', 'Enclave', 'K5 AWD', 'Elantra (ISG)', 'RX 350 L AWD', '911 Carrera 4 Cabriolet', 'Mazda3 4-Door Turbo 4WD', 'RC F', 'Chiron Super Sport', 'RC 300 AWD', 'AMG E 53 4MATIC+ Coupe', 'Defender 110 5.0L V8', 'AMG A 35 4MATIC Sedan'] in column 1 during transform\n",
            "\n",
            "  warnings.warn(\n",
            "/usr/local/lib/python3.10/dist-packages/sklearn/model_selection/_validation.py:839: UserWarning: Scoring failed. The score on this train-test partition for these parameters will be set to nan. Details: \n",
            "Traceback (most recent call last):\n",
            "  File \"/usr/local/lib/python3.10/dist-packages/sklearn/metrics/_scorer.py\", line 136, in __call__\n",
            "    score = scorer._score(\n",
            "  File \"/usr/local/lib/python3.10/dist-packages/sklearn/metrics/_scorer.py\", line 353, in _score\n",
            "    y_pred = method_caller(estimator, \"predict\", X)\n",
            "  File \"/usr/local/lib/python3.10/dist-packages/sklearn/metrics/_scorer.py\", line 86, in _cached_call\n",
            "    result, _ = _get_response_values(\n",
            "  File \"/usr/local/lib/python3.10/dist-packages/sklearn/utils/_response.py\", line 218, in _get_response_values\n",
            "    y_pred, pos_label = estimator.predict(X), None\n",
            "  File \"/usr/local/lib/python3.10/dist-packages/sklearn/pipeline.py\", line 514, in predict\n",
            "    Xt = transform.transform(Xt)\n",
            "  File \"/usr/local/lib/python3.10/dist-packages/sklearn/utils/_set_output.py\", line 157, in wrapped\n",
            "    data_to_wrap = f(self, X, *args, **kwargs)\n",
            "  File \"/usr/local/lib/python3.10/dist-packages/sklearn/compose/_column_transformer.py\", line 827, in transform\n",
            "    Xs = self._fit_transform(\n",
            "  File \"/usr/local/lib/python3.10/dist-packages/sklearn/compose/_column_transformer.py\", line 681, in _fit_transform\n",
            "    return Parallel(n_jobs=self.n_jobs)(\n",
            "  File \"/usr/local/lib/python3.10/dist-packages/sklearn/utils/parallel.py\", line 65, in __call__\n",
            "    return super().__call__(iterable_with_config)\n",
            "  File \"/usr/local/lib/python3.10/dist-packages/joblib/parallel.py\", line 1863, in __call__\n",
            "    return output if self.return_generator else list(output)\n",
            "  File \"/usr/local/lib/python3.10/dist-packages/joblib/parallel.py\", line 1792, in _get_sequential_output\n",
            "    res = func(*args, **kwargs)\n",
            "  File \"/usr/local/lib/python3.10/dist-packages/sklearn/utils/parallel.py\", line 127, in __call__\n",
            "    return self.function(*args, **kwargs)\n",
            "  File \"/usr/local/lib/python3.10/dist-packages/sklearn/pipeline.py\", line 940, in _transform_one\n",
            "    res = transformer.transform(X)\n",
            "  File \"/usr/local/lib/python3.10/dist-packages/sklearn/pipeline.py\", line 696, in transform\n",
            "    Xt = transform.transform(Xt)\n",
            "  File \"/usr/local/lib/python3.10/dist-packages/sklearn/utils/_set_output.py\", line 157, in wrapped\n",
            "    data_to_wrap = f(self, X, *args, **kwargs)\n",
            "  File \"/usr/local/lib/python3.10/dist-packages/sklearn/preprocessing/_encoders.py\", line 1027, in transform\n",
            "    X_int, X_mask = self._transform(\n",
            "  File \"/usr/local/lib/python3.10/dist-packages/sklearn/preprocessing/_encoders.py\", line 200, in _transform\n",
            "    raise ValueError(msg)\n",
            "ValueError: Found unknown categories ['Phantom', 'Accord Hybrid Sport/Touring', 'E 450 4MATIC Sedan', 'Range Rover P525 LWB', 'Tundra 4WD', 'Ranger 4WD Tremor', 'Silverado 4WD Custom Trail Boss', 'Metris Cargo Van', 'M850i xDrive Cabriolet', 'Rogue AWD SL/Platinum', 'Mazda3 5-Door 4WD', 'Metris Passenger Van', 'Continental GT Convertible Speed', 'Forester Wilderness AWD', 'Niro FE', 'MX-5 (SIL)', 'Camry Hybrid SE/XLE/XSE', 'Discovery P300', 'Pilot AWD', 'M440i xDrive Coupe', 'Stelvio AWD Quadrifoglio', 'SQ8 quattro', 'Range Rover P400', 'RAV4 AWD TRD Off-Road', 'Equinox', 'X5 xDrive40i', 'TLX SH-AWD', 'XT4 AWD', 'Urus', 'M240i xDrive Coupe', 'Cullinan', 'Cayenne GTS', 'E-PACE P300', 'Grand Cherokee WK 4X4', 'Renegade 4X4', 'Durango AWD SRT', 'GLB 250 4MATIC SUV', 'ES 350', '1500 HFE eTorque', 'F-150 Hybrid 4X4', 'Expedition 4X4', 'GX 460', 'XT4', 'Cayenne S', 'CX-3', 'LC 500h', 'Cayenne', 'Aventador Countach', 'Mazda3 4-Door 4WD', 'XC40 T5 AWD', 'AMG GLA 45 4MATIC SUV', 'DBS V12', 'F-150 Raptor 4X4'] in column 1 during transform\n",
            "\n",
            "  warnings.warn(\n",
            "/usr/local/lib/python3.10/dist-packages/sklearn/model_selection/_validation.py:839: UserWarning: Scoring failed. The score on this train-test partition for these parameters will be set to nan. Details: \n",
            "Traceback (most recent call last):\n",
            "  File \"/usr/local/lib/python3.10/dist-packages/sklearn/metrics/_scorer.py\", line 136, in __call__\n",
            "    score = scorer._score(\n",
            "  File \"/usr/local/lib/python3.10/dist-packages/sklearn/metrics/_scorer.py\", line 353, in _score\n",
            "    y_pred = method_caller(estimator, \"predict\", X)\n",
            "  File \"/usr/local/lib/python3.10/dist-packages/sklearn/metrics/_scorer.py\", line 86, in _cached_call\n",
            "    result, _ = _get_response_values(\n",
            "  File \"/usr/local/lib/python3.10/dist-packages/sklearn/utils/_response.py\", line 218, in _get_response_values\n",
            "    y_pred, pos_label = estimator.predict(X), None\n",
            "  File \"/usr/local/lib/python3.10/dist-packages/sklearn/pipeline.py\", line 514, in predict\n",
            "    Xt = transform.transform(Xt)\n",
            "  File \"/usr/local/lib/python3.10/dist-packages/sklearn/utils/_set_output.py\", line 157, in wrapped\n",
            "    data_to_wrap = f(self, X, *args, **kwargs)\n",
            "  File \"/usr/local/lib/python3.10/dist-packages/sklearn/compose/_column_transformer.py\", line 827, in transform\n",
            "    Xs = self._fit_transform(\n",
            "  File \"/usr/local/lib/python3.10/dist-packages/sklearn/compose/_column_transformer.py\", line 681, in _fit_transform\n",
            "    return Parallel(n_jobs=self.n_jobs)(\n",
            "  File \"/usr/local/lib/python3.10/dist-packages/sklearn/utils/parallel.py\", line 65, in __call__\n",
            "    return super().__call__(iterable_with_config)\n",
            "  File \"/usr/local/lib/python3.10/dist-packages/joblib/parallel.py\", line 1863, in __call__\n",
            "    return output if self.return_generator else list(output)\n",
            "  File \"/usr/local/lib/python3.10/dist-packages/joblib/parallel.py\", line 1792, in _get_sequential_output\n",
            "    res = func(*args, **kwargs)\n",
            "  File \"/usr/local/lib/python3.10/dist-packages/sklearn/utils/parallel.py\", line 127, in __call__\n",
            "    return self.function(*args, **kwargs)\n",
            "  File \"/usr/local/lib/python3.10/dist-packages/sklearn/pipeline.py\", line 940, in _transform_one\n",
            "    res = transformer.transform(X)\n",
            "  File \"/usr/local/lib/python3.10/dist-packages/sklearn/pipeline.py\", line 696, in transform\n",
            "    Xt = transform.transform(Xt)\n",
            "  File \"/usr/local/lib/python3.10/dist-packages/sklearn/utils/_set_output.py\", line 157, in wrapped\n",
            "    data_to_wrap = f(self, X, *args, **kwargs)\n",
            "  File \"/usr/local/lib/python3.10/dist-packages/sklearn/preprocessing/_encoders.py\", line 1027, in transform\n",
            "    X_int, X_mask = self._transform(\n",
            "  File \"/usr/local/lib/python3.10/dist-packages/sklearn/preprocessing/_encoders.py\", line 200, in _transform\n",
            "    raise ValueError(msg)\n",
            "ValueError: Found unknown categories ['S 500 4MATIC SWB Sedan', '911 Carrera Cabriolet', 'Levante Modena V8', 'Camry LE/SE', 'Accord', 'Suburban 4WD (No Stop-Start)', 'Corolla Hybrid', 'Encore AWD', 'HR-V AWD', 'Pacifica', 'A7 Sportback 55 TFSI quattro', 'RS 5 Sportback quattro', 'Enclave AWD', 'Eclipse Cross 4WD', 'A5 Sportback 45 TFSI quattro', 'Gladiator 4X4 Rubicon EcoDiesel', 'Niro', 'Niro Touring', '1500', '911 Targa 4', 'AMG E 53 4MATIC+ Cabriolet', 'X7 M50i', 'A5 Coupe 45 TFSI quattro', 'Cayenne Turbo', 'Range Rover Sport HST P400', 'Macan GTS', '911 Turbo Cabriolet', 'Macan S', 'TT Roadster 45 TFSI quattro', 'LS 500h AWD', 'Continental GT Speed', 'Pathfinder 4WD', 'X5 M', 'Navigator 4X4', 'LC 500', 'X3 M Competition', 'X4 M', 'CT4-V AWD', 'Q5 40 TFSI quattro', 'Panamera Turbo S ST', 'RAV4 AWD LE', 'Altima AWD SR/Platinum', 'AMG GLC 43 4MATIC SUV', 'C 300 4MATIC Cabriolet', '911 Turbo', '911 Turbo S Cabriolet', 'Wrangler JL Unlimited 4X4 EcoDiesel', '430i xDrive Cabriolet', 'Tundra 4WD TRD', 'X2 M35i', 'Santa Fe Hybrid', 'M4 Competition Cabriolet M xDrive', 'X2 xDrive28i'] in column 1 during transform\n",
            "\n",
            "  warnings.warn(\n"
          ]
        }
      ]
    }
  ],
  "metadata": {
    "kernelspec": {
      "display_name": "Python 3",
      "name": "python3"
    },
    "language_info": {
      "codemirror_mode": {
        "name": "ipython",
        "version": 3
      },
      "file_extension": ".py",
      "mimetype": "text/x-python",
      "name": "python",
      "nbconvert_exporter": "python",
      "pygments_lexer": "ipython3",
      "version": "3.7.12"
    },
    "papermill": {
      "default_parameters": {},
      "duration": 31.306586,
      "end_time": "2023-05-22T22:49:30.815921",
      "environment_variables": {},
      "exception": null,
      "input_path": "__notebook__.ipynb",
      "output_path": "__notebook__.ipynb",
      "parameters": {},
      "start_time": "2023-05-22T22:48:59.509335",
      "version": "2.3.4"
    },
    "colab": {
      "provenance": [],
      "gpuType": "T4",
      "include_colab_link": true
    },
    "accelerator": "GPU"
  },
  "nbformat": 4,
  "nbformat_minor": 5
}